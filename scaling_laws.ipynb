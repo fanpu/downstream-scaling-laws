{
 "cells": [
  {
   "cell_type": "markdown",
   "metadata": {},
   "source": [
    "# Dataset generation\n",
    "\n",
    "This will generate 4 files in the `dataset` folder, each containing 50000 examples of Roman numeral arithmetic operations."
   ]
  },
  {
   "cell_type": "code",
   "execution_count": 1,
   "metadata": {},
   "outputs": [
    {
     "name": "stdout",
     "output_type": "stream",
     "text": [
      "Generated addition dataset: dataset/addition.txt\n",
      "Generated subtraction dataset: dataset/subtraction.txt\n",
      "Generated multiplication dataset: dataset/multiplication.txt\n",
      "Generated division dataset: dataset/division.txt\n",
      "All datasets generated successfully.\n"
     ]
    }
   ],
   "source": [
    "import random\n",
    "import os\n",
    "from roman import toRoman, fromRoman\n",
    "\n",
    "def generate_roman_arithmetic_dataset(operation, num_examples=50000):\n",
    "    dataset = []\n",
    "    while len(dataset) < num_examples:\n",
    "        if operation == \"/\":\n",
    "            b = random.randint(1, 100)  # Divisor can be up to 100\n",
    "            result = random.randint(1, 39)  # Limit result to ensure a * b <= 3999\n",
    "            a = result * b  # This ensures clean division\n",
    "        else:\n",
    "            a = random.randint(1, 3999)\n",
    "            b = random.randint(1, 3999)\n",
    "\n",
    "            if operation == \"+\":\n",
    "                result = a + b\n",
    "            elif operation == \"-\":\n",
    "                result = max(a, b) - min(a, b)\n",
    "                a, b = max(a, b), min(a, b)\n",
    "            elif operation == \"*\":\n",
    "                result = a * b\n",
    "\n",
    "        if result > 3999:\n",
    "            continue  # Retry if result is too large\n",
    "\n",
    "        roman_a = toRoman(a)\n",
    "        roman_b = toRoman(b)\n",
    "        roman_result = toRoman(result)\n",
    "\n",
    "        example = f\"{roman_a} {operation} {roman_b} = {roman_result}\"\n",
    "        dataset.append(example)\n",
    "\n",
    "    return dataset\n",
    "\n",
    "# Create dataset directory if it doesn't exist\n",
    "os.makedirs(\"dataset\", exist_ok=True)\n",
    "\n",
    "# Generate datasets for each operation\n",
    "operations = [\"+\", \"-\", \"*\", \"/\"]\n",
    "operation_names = [\"addition\", \"subtraction\", \"multiplication\", \"division\"]\n",
    "\n",
    "for op, name in zip(operations, operation_names):\n",
    "    dataset = generate_roman_arithmetic_dataset(op)\n",
    "    filename = f\"dataset/{name}.txt\"\n",
    "\n",
    "    with open(filename, \"w\") as f:\n",
    "        f.write(\"\\n\".join(dataset))\n",
    "\n",
    "    print(f\"Generated {name} dataset: {filename}\")\n",
    "\n",
    "print(\"All datasets generated successfully.\")"
   ]
  },
  {
   "cell_type": "code",
   "execution_count": null,
   "metadata": {},
   "outputs": [],
   "source": []
  },
  {
   "cell_type": "markdown",
   "metadata": {},
   "source": []
  }
 ],
 "metadata": {
  "kernelspec": {
   "display_name": "Python 3 (ipykernel)",
   "language": "python",
   "name": "python3"
  },
  "language_info": {
   "codemirror_mode": {
    "name": "ipython",
    "version": 3
   },
   "file_extension": ".py",
   "mimetype": "text/x-python",
   "name": "python",
   "nbconvert_exporter": "python",
   "pygments_lexer": "ipython3",
   "version": "3.12.4"
  }
 },
 "nbformat": 4,
 "nbformat_minor": 2
}
